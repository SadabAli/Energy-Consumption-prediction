{
 "cells": [
  {
   "cell_type": "code",
   "execution_count": 1,
   "metadata": {},
   "outputs": [],
   "source": [
    "import numpy as np\n",
    "\n",
    "# Input data for one time step with 4 features\n",
    "input_data = np.array([[10800, 1, 2016, 4]])\n",
    "\n",
    "# Reshape to (batch_size=1, time_steps=1, input_dim=4)\n",
    "input_data = input_data.reshape((1, 1, 4))\n"
   ]
  },
  {
   "cell_type": "code",
   "execution_count": 2,
   "metadata": {},
   "outputs": [
    {
     "ename": "NameError",
     "evalue": "name 'sigmoid' is not defined",
     "output_type": "error",
     "traceback": [
      "\u001b[1;31m---------------------------------------------------------------------------\u001b[0m",
      "\u001b[1;31mNameError\u001b[0m                                 Traceback (most recent call last)",
      "Cell \u001b[1;32mIn[2], line 20\u001b[0m\n\u001b[0;32m     17\u001b[0m C_t_prev \u001b[38;5;241m=\u001b[39m np\u001b[38;5;241m.\u001b[39mzeros((\u001b[38;5;241m1\u001b[39m, \u001b[38;5;241m3\u001b[39m))\n\u001b[0;32m     19\u001b[0m \u001b[38;5;66;03m# Compute gates (example)\u001b[39;00m\n\u001b[1;32m---> 20\u001b[0m f_t \u001b[38;5;241m=\u001b[39m \u001b[43msigmoid\u001b[49m(np\u001b[38;5;241m.\u001b[39mdot(input_data, W_f\u001b[38;5;241m.\u001b[39mT) \u001b[38;5;241m+\u001b[39m np\u001b[38;5;241m.\u001b[39mdot(h_t_prev, U_f\u001b[38;5;241m.\u001b[39mT) \u001b[38;5;241m+\u001b[39m b_f)\n\u001b[0;32m     21\u001b[0m i_t \u001b[38;5;241m=\u001b[39m sigmoid(np\u001b[38;5;241m.\u001b[39mdot(input_data, W_i\u001b[38;5;241m.\u001b[39mT) \u001b[38;5;241m+\u001b[39m np\u001b[38;5;241m.\u001b[39mdot(h_t_prev, U_i\u001b[38;5;241m.\u001b[39mT) \u001b[38;5;241m+\u001b[39m b_i)\n\u001b[0;32m     22\u001b[0m o_t \u001b[38;5;241m=\u001b[39m sigmoid(np\u001b[38;5;241m.\u001b[39mdot(input_data, W_o\u001b[38;5;241m.\u001b[39mT) \u001b[38;5;241m+\u001b[39m np\u001b[38;5;241m.\u001b[39mdot(h_t_prev, U_o\u001b[38;5;241m.\u001b[39mT) \u001b[38;5;241m+\u001b[39m b_o)\n",
      "\u001b[1;31mNameError\u001b[0m: name 'sigmoid' is not defined"
     ]
    }
   ],
   "source": [
    "# Assuming random initial weights for demonstration\n",
    "W_f = np.random.randn(3, 4)\n",
    "W_i = np.random.randn(3, 4)\n",
    "W_o = np.random.randn(3, 4)\n",
    "W_c = np.random.randn(3, 4)\n",
    "U_f = np.random.randn(3, 3)\n",
    "U_i = np.random.randn(3, 3)\n",
    "U_o = np.random.randn(3, 3)\n",
    "U_c = np.random.randn(3, 3)\n",
    "b_f = np.random.randn(3)\n",
    "b_i = np.random.randn(3)\n",
    "b_o = np.random.randn(3)\n",
    "b_c = np.random.randn(3)\n",
    "\n",
    "# Assuming initial hidden and cell states\n",
    "h_t_prev = np.zeros((1, 3))  # (batch_size=1, output_dim=3)\n",
    "C_t_prev = np.zeros((1, 3))\n",
    "\n",
    "# Compute gates (example)\n",
    "f_t = sigmoid(np.dot(input_data, W_f.T) + np.dot(h_t_prev, U_f.T) + b_f)\n",
    "i_t = sigmoid(np.dot(input_data, W_i.T) + np.dot(h_t_prev, U_i.T) + b_i)\n",
    "o_t = sigmoid(np.dot(input_data, W_o.T) + np.dot(h_t_prev, U_o.T) + b_o)\n",
    "C_t_tilde = np.tanh(np.dot(input_data, W_c.T) + np.dot(h_t_prev, U_c.T) + b_c)\n",
    "\n",
    "# Compute cell state and hidden state\n",
    "C_t = f_t * C_t_prev + i_t * C_t_tilde\n",
    "h_t = o_t * np.tanh(C_t)\n",
    "\n",
    "# Example prediction using the final hidden state\n",
    "W_out = np.random.randn(1, 3)  # Output weight matrix\n",
    "b_out = np.random.randn(1)     # Output bias\n",
    "\n",
    "y_pred = np.dot(h_t, W_out.T) + b_out\n",
    "\n",
    "print(\"Prediction:\", y_pred)\n"
   ]
  },
  {
   "cell_type": "code",
   "execution_count": 13,
   "metadata": {},
   "outputs": [
    {
     "name": "stdout",
     "output_type": "stream",
     "text": [
      "Input Weight Matrix (W_i):\n",
      " [[ 0.07950646  0.2157194   0.23735374 -0.41302037  0.19845724  0.22218162\n",
      "  -0.30345714 -0.33222106  0.10619384 -0.10217398  0.37147325  0.08381855]\n",
      " [ 0.49445194 -0.34434316  0.6225968  -0.39644986 -0.08773971 -0.00582755\n",
      "   0.36001992 -0.5877309  -0.5372643   0.04799515  0.38251632 -0.45057398]\n",
      " [ 0.16763967 -0.191881    0.12281805 -0.19244963  0.58990735  0.27978897\n",
      "   0.61415774 -0.03487676 -0.46463716  0.28567487 -0.36712453 -0.266493  ]]\n",
      "Recurrent Weight Matrix (U_i):\n",
      " [[ 0.02345955  0.19512361  0.15132889  0.58401906 -0.0191108  -0.16524741\n",
      "  -0.22965094  0.11883724 -0.47315013 -0.3223549   0.36573258 -0.20327291]\n",
      " [ 0.29976994  0.4584968   0.06666195 -0.16147743  0.26200524 -0.6383054\n",
      "   0.38751376 -0.06760179 -0.12661837  0.06087069 -0.10221323  0.091638  ]\n",
      " [ 0.16913688  0.10329411  0.1978018   0.4238036  -0.2992111   0.11899209\n",
      "   0.21142541 -0.12881795  0.22857943 -0.40264988 -0.5789967   0.16551104]]\n",
      "Bias Vector (b_i):\n",
      " [0.0190008  0.0190008  0.0190008  1.         1.         1.\n",
      " 0.02001771 0.02001771 0.02001771 0.0190008  0.0190008  0.0190008 ]\n"
     ]
    }
   ],
   "source": [
    "# Extract weights from the LSTM layer\n",
    "lstm_layer = model.layers[0]  # Get the LSTM layer\n",
    "weights = lstm_layer.get_weights()\n",
    "\n",
    "# Weights matrices\n",
    "W_i = weights[0]  # Shape: (input_dim + units, units) for input weights\n",
    "U_i = weights[1]  # Shape: (units, units) for recurrent weights\n",
    "b_i = weights[2]  # Shape: (units,) for bias\n",
    "\n",
    "# Print matrices\n",
    "print(\"Input Weight Matrix (W_i):\\n\", W_i)\n",
    "print(\"Recurrent Weight Matrix (U_i):\\n\", U_i)\n",
    "print(\"Bias Vector (b_i):\\n\", b_i)\n"
   ]
  },
  {
   "cell_type": "code",
   "execution_count": null,
   "metadata": {},
   "outputs": [],
   "source": []
  }
 ],
 "metadata": {
  "kernelspec": {
   "display_name": "env",
   "language": "python",
   "name": "python3"
  },
  "language_info": {
   "codemirror_mode": {
    "name": "ipython",
    "version": 3
   },
   "file_extension": ".py",
   "mimetype": "text/x-python",
   "name": "python",
   "nbconvert_exporter": "python",
   "pygments_lexer": "ipython3",
   "version": "3.12.1"
  }
 },
 "nbformat": 4,
 "nbformat_minor": 2
}
